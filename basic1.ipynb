{
 "cells": [
  {
   "cell_type": "code",
   "execution_count": 4,
   "metadata": {},
   "outputs": [
    {
     "name": "stdout",
     "output_type": "stream",
     "text": [
      "skdjvbkjsdbvkj\n"
     ]
    }
   ],
   "source": [
    "print(\"skdjvbkjsdbvkj\")\n",
    "print(\"skdjvbkjsdbvkj\")\n",
    "print(\"skdjvbwfknerkgkjsdbvkj\")\n",
    "print(\"skdjvbkjsdbvkj\")\n",
    "print(\"skdjvevklkebkjsdbvkj\")\n",
    "print(\"skdjvbdv\")\n"
   ]
  },
  {
   "cell_type": "code",
   "execution_count": null,
   "metadata": {},
   "outputs": [],
   "source": [
    "git and github main use is version control\n",
    "\n",
    "version control:\n",
    "    windows 7 kdfgjlnf -1\n",
    "    windows 8dfklknklndnfg-2\n",
    "    windowa 10\\lkfgnlknf-3\n",
    "        qindows 11lkngflekrn-4\n"
   ]
  }
 ],
 "metadata": {
  "kernelspec": {
   "display_name": "Python 3",
   "language": "python",
   "name": "python3"
  },
  "language_info": {
   "codemirror_mode": {
    "name": "ipython",
    "version": 3
   },
   "file_extension": ".py",
   "mimetype": "text/x-python",
   "name": "python",
   "nbconvert_exporter": "python",
   "pygments_lexer": "ipython3",
   "version": "3.12.5"
  }
 },
 "nbformat": 4,
 "nbformat_minor": 2
}
